{
 "cells": [
  {
   "cell_type": "markdown",
   "metadata": {},
   "source": [
    "### 1- Load all the required libs"
   ]
  },
  {
   "cell_type": "code",
   "execution_count": 2,
   "metadata": {},
   "outputs": [],
   "source": [
    "import pandas as pd\n",
    "from sklearn.model_selection import train_test_split\n",
    "from sklearn.feature_extraction.text import TfidfVectorizer, CountVectorizer\n",
    "from sklearn.naive_bayes import MultinomialNB\n",
    "from sklearn import metrics\n",
    "from tqdm import tqdm\n",
    "tqdm.pandas()\n",
    "from normalize_function import normalize"
   ]
  },
  {
   "cell_type": "code",
   "execution_count": 4,
   "metadata": {},
   "outputs": [],
   "source": [
    "# load all the datasets\n",
    "\n",
    "dlr = pd.read_csv('../../datasets/RU-sentiment/DLR.csv', encoding='iso-8859-1')\n",
    "rusa = pd.read_csv('../../datasets/RU-sentiment/RUSA-19.csv', encoding='iso-8859-1')\n",
    "ucl = pd.read_csv('../../datasets/RU-sentiment/UCLRoman.csv', encoding='iso-8859-1')"
   ]
  },
  {
   "cell_type": "code",
   "execution_count": 5,
   "metadata": {},
   "outputs": [],
   "source": [
    "#lower case reviews in all the datasets\n",
    "\n",
    "dlr[\"Reviews\"] = dlr[\"Reviews\"].str.lower()\n",
    "rusa[\"Reviews\"] = rusa[\"Reviews\"].str.lower()\n",
    "ucl[\"Reviews\"] = ucl[\"Reviews\"].str.lower()"
   ]
  },
  {
   "cell_type": "markdown",
   "metadata": {},
   "source": [
    "### 2- Apply normalization rules on DLR dataset"
   ]
  },
  {
   "cell_type": "code",
   "execution_count": 6,
   "metadata": {},
   "outputs": [
    {
     "name": "stderr",
     "output_type": "stream",
     "text": [
      "100%|██████████████████████████████████████████████████████████████████████████████| 3923/3923 [10:47<00:00,  6.06it/s]\n"
     ]
    }
   ],
   "source": [
    "dlr['NormalizedReviews'] = dlr['Reviews'].progress_apply(normalize)"
   ]
  },
  {
   "cell_type": "code",
   "execution_count": 7,
   "metadata": {},
   "outputs": [],
   "source": [
    "# save normalized DLR dataset\n",
    "\n",
    "dlr.to_csv('../../datasets/RU-sentiment-normalized/DLR.csv', index=False)"
   ]
  },
  {
   "cell_type": "markdown",
   "metadata": {},
   "source": [
    "### 3- Apply normalization rules on RUSA-19 dataset"
   ]
  },
  {
   "cell_type": "code",
   "execution_count": 8,
   "metadata": {},
   "outputs": [
    {
     "name": "stderr",
     "output_type": "stream",
     "text": [
      "100%|████████████████████████████████████████████████████████████████████████████| 10015/10015 [17:59<00:00,  9.28it/s]\n"
     ]
    }
   ],
   "source": [
    "rusa['NormalizedReviews'] = rusa['Reviews'].progress_apply(normalize)"
   ]
  },
  {
   "cell_type": "code",
   "execution_count": 9,
   "metadata": {},
   "outputs": [],
   "source": [
    "rusa.to_csv('../../datasets/RU-sentiment-normalized/RUSA-19.csv', index=False)"
   ]
  },
  {
   "cell_type": "markdown",
   "metadata": {},
   "source": [
    "### 4- Apply normalization rules on UCL Roman Urdu dataset"
   ]
  },
  {
   "cell_type": "code",
   "execution_count": 10,
   "metadata": {},
   "outputs": [
    {
     "name": "stderr",
     "output_type": "stream",
     "text": [
      "100%|████████████████████████████████████████████████████████████████████████████| 20229/20229 [34:25<00:00,  9.79it/s]\n"
     ]
    }
   ],
   "source": [
    "ucl['NormalizedReviews'] = ucl['Reviews'].progress_apply(normalize)"
   ]
  },
  {
   "cell_type": "code",
   "execution_count": 11,
   "metadata": {},
   "outputs": [],
   "source": [
    "ucl.to_csv('../../datasets/RU-sentiment-normalized/UCLRoman.csv', index=False)"
   ]
  },
  {
   "cell_type": "code",
   "execution_count": null,
   "metadata": {},
   "outputs": [],
   "source": []
  }
 ],
 "metadata": {
  "kernelspec": {
   "display_name": "Python 3",
   "language": "python",
   "name": "python3"
  },
  "language_info": {
   "codemirror_mode": {
    "name": "ipython",
    "version": 3
   },
   "file_extension": ".py",
   "mimetype": "text/x-python",
   "name": "python",
   "nbconvert_exporter": "python",
   "pygments_lexer": "ipython3",
   "version": "3.7.6"
  }
 },
 "nbformat": 4,
 "nbformat_minor": 4
}
